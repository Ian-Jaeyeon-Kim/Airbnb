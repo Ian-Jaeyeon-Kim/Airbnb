{
 "cells": [
  {
   "cell_type": "markdown",
   "metadata": {},
   "source": [
    "# 1. setting"
   ]
  },
  {
   "cell_type": "markdown",
   "metadata": {},
   "source": [
    "### read csv"
   ]
  },
  {
   "cell_type": "code",
   "execution_count": 7,
   "metadata": {},
   "outputs": [
    {
     "data": {
      "text/html": [
       "<div>\n",
       "<style>\n",
       "    .dataframe thead tr:only-child th {\n",
       "        text-align: right;\n",
       "    }\n",
       "\n",
       "    .dataframe thead th {\n",
       "        text-align: left;\n",
       "    }\n",
       "\n",
       "    .dataframe tbody tr th {\n",
       "        vertical-align: top;\n",
       "    }\n",
       "</style>\n",
       "<table border=\"1\" class=\"dataframe\">\n",
       "  <thead>\n",
       "    <tr style=\"text-align: right;\">\n",
       "      <th></th>\n",
       "      <th>Property ID</th>\n",
       "      <th>CreatedDate</th>\n",
       "      <th>Latitude</th>\n",
       "      <th>Longitude</th>\n",
       "    </tr>\n",
       "  </thead>\n",
       "  <tbody>\n",
       "    <tr>\n",
       "      <th>0</th>\n",
       "      <td>4881689</td>\n",
       "      <td>201412</td>\n",
       "      <td>37.538801</td>\n",
       "      <td>127.004746</td>\n",
       "    </tr>\n",
       "    <tr>\n",
       "      <th>1</th>\n",
       "      <td>18095433</td>\n",
       "      <td>201704</td>\n",
       "      <td>33.518760</td>\n",
       "      <td>126.888090</td>\n",
       "    </tr>\n",
       "    <tr>\n",
       "      <th>2</th>\n",
       "      <td>12210733</td>\n",
       "      <td>201604</td>\n",
       "      <td>33.514708</td>\n",
       "      <td>126.860203</td>\n",
       "    </tr>\n",
       "  </tbody>\n",
       "</table>\n",
       "</div>"
      ],
      "text/plain": [
       "   Property ID  CreatedDate   Latitude   Longitude\n",
       "0      4881689       201412  37.538801  127.004746\n",
       "1     18095433       201704  33.518760  126.888090\n",
       "2     12210733       201604  33.514708  126.860203"
      ]
     },
     "execution_count": 7,
     "metadata": {},
     "output_type": "execute_result"
    }
   ],
   "source": [
    "import numpy as np\n",
    "import pandas as pd\n",
    "import sys\n",
    "\n",
    "table = pd.read_csv('cleanse.csv')\n",
    "table.head(3)"
   ]
  },
  {
   "cell_type": "markdown",
   "metadata": {},
   "source": [
    "\n",
    "\n",
    "\n",
    "### data sketch"
   ]
  },
  {
   "cell_type": "code",
   "execution_count": 25,
   "metadata": {},
   "outputs": [
    {
     "data": {
      "text/plain": [
       "0"
      ]
     },
     "execution_count": 25,
     "metadata": {},
     "output_type": "execute_result"
    }
   ],
   "source": [
    "table.CreatedDate.describe()\n",
    "table.CreatedDate.isnull().sum()"
   ]
  },
  {
   "cell_type": "markdown",
   "metadata": {},
   "source": [
    "---\n",
    "# 2. data cleansing"
   ]
  },
  {
   "cell_type": "markdown",
   "metadata": {},
   "source": [
    "### select data according to CreatedDate"
   ]
  },
  {
   "cell_type": "code",
   "execution_count": 36,
   "metadata": {
    "collapsed": true
   },
   "outputs": [
    {
     "data": {
      "text/html": [
       "<div>\n",
       "<style>\n",
       "    .dataframe thead tr:only-child th {\n",
       "        text-align: right;\n",
       "    }\n",
       "\n",
       "    .dataframe thead th {\n",
       "        text-align: left;\n",
       "    }\n",
       "\n",
       "    .dataframe tbody tr th {\n",
       "        vertical-align: top;\n",
       "    }\n",
       "</style>\n",
       "<table border=\"1\" class=\"dataframe\">\n",
       "  <thead>\n",
       "    <tr style=\"text-align: right;\">\n",
       "      <th></th>\n",
       "      <th>Property ID</th>\n",
       "      <th>CreatedDate</th>\n",
       "      <th>Latitude</th>\n",
       "      <th>Longitude</th>\n",
       "    </tr>\n",
       "  </thead>\n",
       "  <tbody>\n",
       "    <tr>\n",
       "      <th>6961</th>\n",
       "      <td>81855</td>\n",
       "      <td>201103</td>\n",
       "      <td>37.575486</td>\n",
       "      <td>126.990547</td>\n",
       "    </tr>\n",
       "    <tr>\n",
       "      <th>16384</th>\n",
       "      <td>81858</td>\n",
       "      <td>201103</td>\n",
       "      <td>37.577231</td>\n",
       "      <td>126.991428</td>\n",
       "    </tr>\n",
       "    <tr>\n",
       "      <th>16385</th>\n",
       "      <td>81860</td>\n",
       "      <td>201103</td>\n",
       "      <td>37.577029</td>\n",
       "      <td>126.990747</td>\n",
       "    </tr>\n",
       "    <tr>\n",
       "      <th>16386</th>\n",
       "      <td>73595</td>\n",
       "      <td>201102</td>\n",
       "      <td>37.351491</td>\n",
       "      <td>127.059809</td>\n",
       "    </tr>\n",
       "    <tr>\n",
       "      <th>16387</th>\n",
       "      <td>82728</td>\n",
       "      <td>201103</td>\n",
       "      <td>37.576173</td>\n",
       "      <td>126.991711</td>\n",
       "    </tr>\n",
       "    <tr>\n",
       "      <th>16388</th>\n",
       "      <td>91152</td>\n",
       "      <td>201104</td>\n",
       "      <td>37.581336</td>\n",
       "      <td>126.813653</td>\n",
       "    </tr>\n",
       "    <tr>\n",
       "      <th>16389</th>\n",
       "      <td>116599</td>\n",
       "      <td>201105</td>\n",
       "      <td>37.571402</td>\n",
       "      <td>126.927789</td>\n",
       "    </tr>\n",
       "    <tr>\n",
       "      <th>16390</th>\n",
       "      <td>117906</td>\n",
       "      <td>201105</td>\n",
       "      <td>37.575781</td>\n",
       "      <td>126.996836</td>\n",
       "    </tr>\n",
       "    <tr>\n",
       "      <th>16393</th>\n",
       "      <td>143226</td>\n",
       "      <td>201106</td>\n",
       "      <td>37.575365</td>\n",
       "      <td>126.997950</td>\n",
       "    </tr>\n",
       "    <tr>\n",
       "      <th>18110</th>\n",
       "      <td>113730</td>\n",
       "      <td>201105</td>\n",
       "      <td>37.552871</td>\n",
       "      <td>126.935466</td>\n",
       "    </tr>\n",
       "    <tr>\n",
       "      <th>27570</th>\n",
       "      <td>128530</td>\n",
       "      <td>201105</td>\n",
       "      <td>37.500925</td>\n",
       "      <td>127.041589</td>\n",
       "    </tr>\n",
       "    <tr>\n",
       "      <th>35746</th>\n",
       "      <td>117239</td>\n",
       "      <td>201105</td>\n",
       "      <td>37.581761</td>\n",
       "      <td>126.981197</td>\n",
       "    </tr>\n",
       "    <tr>\n",
       "      <th>35949</th>\n",
       "      <td>126573</td>\n",
       "      <td>201105</td>\n",
       "      <td>37.553467</td>\n",
       "      <td>126.970627</td>\n",
       "    </tr>\n",
       "    <tr>\n",
       "      <th>36397</th>\n",
       "      <td>108008</td>\n",
       "      <td>201105</td>\n",
       "      <td>37.582392</td>\n",
       "      <td>126.979308</td>\n",
       "    </tr>\n",
       "    <tr>\n",
       "      <th>37719</th>\n",
       "      <td>154329</td>\n",
       "      <td>201106</td>\n",
       "      <td>37.581909</td>\n",
       "      <td>126.987421</td>\n",
       "    </tr>\n",
       "    <tr>\n",
       "      <th>39459</th>\n",
       "      <td>154342</td>\n",
       "      <td>201106</td>\n",
       "      <td>37.580588</td>\n",
       "      <td>126.986215</td>\n",
       "    </tr>\n",
       "    <tr>\n",
       "      <th>39727</th>\n",
       "      <td>86016</td>\n",
       "      <td>201103</td>\n",
       "      <td>37.555285</td>\n",
       "      <td>126.927201</td>\n",
       "    </tr>\n",
       "    <tr>\n",
       "      <th>40042</th>\n",
       "      <td>133664</td>\n",
       "      <td>201106</td>\n",
       "      <td>37.532517</td>\n",
       "      <td>126.994173</td>\n",
       "    </tr>\n",
       "    <tr>\n",
       "      <th>40226</th>\n",
       "      <td>110026</td>\n",
       "      <td>201105</td>\n",
       "      <td>37.581479</td>\n",
       "      <td>126.980775</td>\n",
       "    </tr>\n",
       "    <tr>\n",
       "      <th>40237</th>\n",
       "      <td>119523</td>\n",
       "      <td>201105</td>\n",
       "      <td>37.583176</td>\n",
       "      <td>126.981446</td>\n",
       "    </tr>\n",
       "    <tr>\n",
       "      <th>49596</th>\n",
       "      <td>118591</td>\n",
       "      <td>201105</td>\n",
       "      <td>37.577566</td>\n",
       "      <td>126.996916</td>\n",
       "    </tr>\n",
       "    <tr>\n",
       "      <th>52907</th>\n",
       "      <td>133833</td>\n",
       "      <td>201106</td>\n",
       "      <td>37.527932</td>\n",
       "      <td>126.961565</td>\n",
       "    </tr>\n",
       "    <tr>\n",
       "      <th>71201</th>\n",
       "      <td>74542</td>\n",
       "      <td>201102</td>\n",
       "      <td>37.484363</td>\n",
       "      <td>128.320045</td>\n",
       "    </tr>\n",
       "    <tr>\n",
       "      <th>75863</th>\n",
       "      <td>69022</td>\n",
       "      <td>201101</td>\n",
       "      <td>37.513766</td>\n",
       "      <td>127.061034</td>\n",
       "    </tr>\n",
       "  </tbody>\n",
       "</table>\n",
       "</div>"
      ],
      "text/plain": [
       "       Property ID  CreatedDate   Latitude   Longitude\n",
       "6961         81855       201103  37.575486  126.990547\n",
       "16384        81858       201103  37.577231  126.991428\n",
       "16385        81860       201103  37.577029  126.990747\n",
       "16386        73595       201102  37.351491  127.059809\n",
       "16387        82728       201103  37.576173  126.991711\n",
       "16388        91152       201104  37.581336  126.813653\n",
       "16389       116599       201105  37.571402  126.927789\n",
       "16390       117906       201105  37.575781  126.996836\n",
       "16393       143226       201106  37.575365  126.997950\n",
       "18110       113730       201105  37.552871  126.935466\n",
       "27570       128530       201105  37.500925  127.041589\n",
       "35746       117239       201105  37.581761  126.981197\n",
       "35949       126573       201105  37.553467  126.970627\n",
       "36397       108008       201105  37.582392  126.979308\n",
       "37719       154329       201106  37.581909  126.987421\n",
       "39459       154342       201106  37.580588  126.986215\n",
       "39727        86016       201103  37.555285  126.927201\n",
       "40042       133664       201106  37.532517  126.994173\n",
       "40226       110026       201105  37.581479  126.980775\n",
       "40237       119523       201105  37.583176  126.981446\n",
       "49596       118591       201105  37.577566  126.996916\n",
       "52907       133833       201106  37.527932  126.961565\n",
       "71201        74542       201102  37.484363  128.320045\n",
       "75863        69022       201101  37.513766  127.061034"
      ]
     },
     "execution_count": 36,
     "metadata": {},
     "output_type": "execute_result"
    }
   ],
   "source": [
    "ab_2010_2h = table.loc[(table['CreatedDate']<= 201012) & (table['CreatedDate']>= 201006)]\n",
    "\n",
    "ab_2011_1h = table.loc[(table['CreatedDate']<= 201106) & (table['CreatedDate']>= 201101)] \n",
    "ab_2011_2h = table.loc[(table['CreatedDate']<= 201112) & (table['CreatedDate']>= 201106)]\n",
    "\n",
    "ab_2012_1h = table.loc[(table['CreatedDate']<= 201206) & (table['CreatedDate']>= 201201)]\n",
    "ab_2012_2h = table.loc[(table['CreatedDate']<= 201212) & (table['CreatedDate']>= 201206)]\n",
    "\n",
    "ab_2013_1h = table.loc[(table['CreatedDate']<= 201306) & (table['CreatedDate']>= 201301)]\n",
    "ab_2013_2h = table.loc[(table['CreatedDate']<= 201312) & (table['CreatedDate']>= 201306)]\n",
    "\n",
    "ab_2014_1h = table.loc[(table['CreatedDate']<= 201406) & (table['CreatedDate']>= 201401)] \n",
    "ab_2014_2h = table.loc[(table['CreatedDate']<= 201412) & (table['CreatedDate']>= 201406)]\n",
    "\n",
    "ab_2015_1h = table.loc[(table['CreatedDate']<= 201506) & (table['CreatedDate']>= 201501)]\n",
    "ab_2015_2h = table.loc[(table['CreatedDate']<= 201512) & (table['CreatedDate']>= 201506)]\n",
    "\n",
    "ab_2016_1h = table.loc[(table['CreatedDate']<= 201606) & (table['CreatedDate']>= 201601)]\n",
    "ab_2016_2h = table.loc[(table['CreatedDate']<= 201612) & (table['CreatedDate']>= 201606)]\n",
    "\n",
    "ab_2017_1h = table.loc[(table['CreatedDate']<= 201706) & (table['CreatedDate']>= 201701)]\n",
    "ab_2017_2h = table.loc[(table['CreatedDate']<= 201712) & (table['CreatedDate']>= 201706)]\n",
    "\n",
    "ab_2018_1h = table.loc[(table['CreatedDate']<= 201806) & (table['CreatedDate']>= 201801)]"
   ]
  },
  {
   "cell_type": "markdown",
   "metadata": {},
   "source": [
    "### half-yearly statistics (지역 분리는 Mapping이후에 하겠습니다.)"
   ]
  },
  {
   "cell_type": "code",
   "execution_count": null,
   "metadata": {
    "collapsed": true
   },
   "outputs": [],
   "source": []
  },
  {
   "cell_type": "markdown",
   "metadata": {},
   "source": [
    "---\n",
    "# 3. Mapping"
   ]
  },
  {
   "cell_type": "markdown",
   "metadata": {},
   "source": [
    "### mapping with \"folium\""
   ]
  },
  {
   "cell_type": "code",
   "execution_count": 20,
   "metadata": {},
   "outputs": [
    {
     "data": {
      "text/html": [
       "<div style=\"width:100%;\"><div style=\"position:relative;width:100%;height:0;padding-bottom:60%;\"><iframe src=\"data:text/html;charset=utf-8;base64,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\" style=\"position:absolute;width:100%;height:100%;left:0;top:0;border:none !important;\" allowfullscreen webkitallowfullscreen mozallowfullscreen></iframe></div></div>"
      ],
      "text/plain": [
       "<folium.folium.Map at 0x1853b572320>"
      ]
     },
     "execution_count": 20,
     "metadata": {},
     "output_type": "execute_result"
    }
   ],
   "source": [
    "import folium\n",
    "\n",
    "map_osm = folium.Map(location=[37.538801, 127.004746], tiles='Mapbox Bright')\n",
    "folium.CircleMarker([37.538801,127.004746],radius=1,color='#3186cc',fill_color='#3186cc').add_to(map_osm)\n",
    "map_osm"
   ]
  }
 ],
 "metadata": {
  "kernelspec": {
   "display_name": "Python 3",
   "language": "python",
   "name": "python3"
  },
  "language_info": {
   "codemirror_mode": {
    "name": "ipython",
    "version": 3
   },
   "file_extension": ".py",
   "mimetype": "text/x-python",
   "name": "python",
   "nbconvert_exporter": "python",
   "pygments_lexer": "ipython3",
   "version": "3.6.1"
  }
 },
 "nbformat": 4,
 "nbformat_minor": 2
}
